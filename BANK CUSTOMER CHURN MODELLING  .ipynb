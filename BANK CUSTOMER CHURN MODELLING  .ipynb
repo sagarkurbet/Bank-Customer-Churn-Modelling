{
 "cells": [
  {
   "cell_type": "markdown",
   "id": "79016fb7",
   "metadata": {},
   "source": [
    "##  BANK CUSTOMER CHURN MODELLING BY ANN .\n",
    "\n",
    "### 1. Problem Statement:-\n",
    "*  A bank is investigating a very high rate of customer leaving the bank. Here is a 10,000 records dataset to investigate and      predict which of the customers are more likely to leave the bank soon.\n",
    "\n",
    "### 2. Dataset:-\n",
    "* The Dataset is taken from the kaggle Dataset.\n",
    "* https://www.kaggle.com/datasets/shubh0799/churn-modelling\n",
    "\n",
    "### 3. Features:-\n",
    "\n",
    "* This is a dataset for a bank which collects information about the customers\n",
    "* **RowNumber**: is an irrelevent feature that we are going to get rid of it in the future\n",
    "* **Customerid**: is the identification key of each customer\n",
    "* **Surname**: is the surname of each customer\n",
    "* **CreditScore**: is the credit score of each customer\n",
    "* **Geography**: means the conutry which each customer lives in\n",
    "* **Gender**: is the gender of each customer\n",
    "* **Age**: is the age of each customer\n",
    "* **Tenure**:means the number of the year(s) which customer in the bank\n",
    "* **Balance**: means the amount of money that each customer has in their account\n",
    "* **NumOfProducts**: the number of the product(s) which customer uses like Credict card, Master Card Etc,\n",
    "* **HasCrCard**: means if the customer has the credit card, 1 means Yes and 0 means No\n",
    "* **isActiveMember**: means if the customer is active or not which 1 means is a active customer\n",
    "* **EstimatedSalary**: means the estimated salary of each customer # Target\n",
    "* **Exited**: means if the customer exists the bank or not, \n",
    "* **1 means the customer left the Bank**.\n",
    "* **0 means the customer is still part of the Bank**.\n"
   ]
  },
  {
   "cell_type": "markdown",
   "id": "78ef18e7",
   "metadata": {},
   "source": [
    "### Import libraries"
   ]
  },
  {
   "cell_type": "code",
   "execution_count": 1,
   "id": "b8464dfe",
   "metadata": {},
   "outputs": [],
   "source": [
    "import numpy as np\n",
    "import pandas as pd\n",
    "import matplotlib.pyplot as plt\n",
    "import seaborn as sns \n",
    "%matplotlib inline "
   ]
  },
  {
   "cell_type": "markdown",
   "id": "f3621134",
   "metadata": {},
   "source": [
    "### Load Dataset"
   ]
  },
  {
   "cell_type": "code",
   "execution_count": 2,
   "id": "eb72478a",
   "metadata": {},
   "outputs": [],
   "source": [
    "df=pd.read_csv('Churn_Modelling.csv')"
   ]
  },
  {
   "cell_type": "code",
   "execution_count": 3,
   "id": "e12ef62a",
   "metadata": {},
   "outputs": [
    {
     "data": {
      "text/html": [
       "<div>\n",
       "<style scoped>\n",
       "    .dataframe tbody tr th:only-of-type {\n",
       "        vertical-align: middle;\n",
       "    }\n",
       "\n",
       "    .dataframe tbody tr th {\n",
       "        vertical-align: top;\n",
       "    }\n",
       "\n",
       "    .dataframe thead th {\n",
       "        text-align: right;\n",
       "    }\n",
       "</style>\n",
       "<table border=\"1\" class=\"dataframe\">\n",
       "  <thead>\n",
       "    <tr style=\"text-align: right;\">\n",
       "      <th></th>\n",
       "      <th>RowNumber</th>\n",
       "      <th>CustomerId</th>\n",
       "      <th>Surname</th>\n",
       "      <th>CreditScore</th>\n",
       "      <th>Geography</th>\n",
       "      <th>Gender</th>\n",
       "      <th>Age</th>\n",
       "      <th>Tenure</th>\n",
       "      <th>Balance</th>\n",
       "      <th>NumOfProducts</th>\n",
       "      <th>HasCrCard</th>\n",
       "      <th>IsActiveMember</th>\n",
       "      <th>EstimatedSalary</th>\n",
       "      <th>Exited</th>\n",
       "    </tr>\n",
       "  </thead>\n",
       "  <tbody>\n",
       "    <tr>\n",
       "      <th>0</th>\n",
       "      <td>1</td>\n",
       "      <td>15634602</td>\n",
       "      <td>Hargrave</td>\n",
       "      <td>619</td>\n",
       "      <td>France</td>\n",
       "      <td>Female</td>\n",
       "      <td>42</td>\n",
       "      <td>2</td>\n",
       "      <td>0.00</td>\n",
       "      <td>1</td>\n",
       "      <td>1</td>\n",
       "      <td>1</td>\n",
       "      <td>101348.88</td>\n",
       "      <td>1</td>\n",
       "    </tr>\n",
       "    <tr>\n",
       "      <th>1</th>\n",
       "      <td>2</td>\n",
       "      <td>15647311</td>\n",
       "      <td>Hill</td>\n",
       "      <td>608</td>\n",
       "      <td>Spain</td>\n",
       "      <td>Female</td>\n",
       "      <td>41</td>\n",
       "      <td>1</td>\n",
       "      <td>83807.86</td>\n",
       "      <td>1</td>\n",
       "      <td>0</td>\n",
       "      <td>1</td>\n",
       "      <td>112542.58</td>\n",
       "      <td>0</td>\n",
       "    </tr>\n",
       "    <tr>\n",
       "      <th>2</th>\n",
       "      <td>3</td>\n",
       "      <td>15619304</td>\n",
       "      <td>Onio</td>\n",
       "      <td>502</td>\n",
       "      <td>France</td>\n",
       "      <td>Female</td>\n",
       "      <td>42</td>\n",
       "      <td>8</td>\n",
       "      <td>159660.80</td>\n",
       "      <td>3</td>\n",
       "      <td>1</td>\n",
       "      <td>0</td>\n",
       "      <td>113931.57</td>\n",
       "      <td>1</td>\n",
       "    </tr>\n",
       "    <tr>\n",
       "      <th>3</th>\n",
       "      <td>4</td>\n",
       "      <td>15701354</td>\n",
       "      <td>Boni</td>\n",
       "      <td>699</td>\n",
       "      <td>France</td>\n",
       "      <td>Female</td>\n",
       "      <td>39</td>\n",
       "      <td>1</td>\n",
       "      <td>0.00</td>\n",
       "      <td>2</td>\n",
       "      <td>0</td>\n",
       "      <td>0</td>\n",
       "      <td>93826.63</td>\n",
       "      <td>0</td>\n",
       "    </tr>\n",
       "    <tr>\n",
       "      <th>4</th>\n",
       "      <td>5</td>\n",
       "      <td>15737888</td>\n",
       "      <td>Mitchell</td>\n",
       "      <td>850</td>\n",
       "      <td>Spain</td>\n",
       "      <td>Female</td>\n",
       "      <td>43</td>\n",
       "      <td>2</td>\n",
       "      <td>125510.82</td>\n",
       "      <td>1</td>\n",
       "      <td>1</td>\n",
       "      <td>1</td>\n",
       "      <td>79084.10</td>\n",
       "      <td>0</td>\n",
       "    </tr>\n",
       "  </tbody>\n",
       "</table>\n",
       "</div>"
      ],
      "text/plain": [
       "   RowNumber  CustomerId   Surname  CreditScore Geography  Gender  Age  \\\n",
       "0          1    15634602  Hargrave          619    France  Female   42   \n",
       "1          2    15647311      Hill          608     Spain  Female   41   \n",
       "2          3    15619304      Onio          502    France  Female   42   \n",
       "3          4    15701354      Boni          699    France  Female   39   \n",
       "4          5    15737888  Mitchell          850     Spain  Female   43   \n",
       "\n",
       "   Tenure    Balance  NumOfProducts  HasCrCard  IsActiveMember  \\\n",
       "0       2       0.00              1          1               1   \n",
       "1       1   83807.86              1          0               1   \n",
       "2       8  159660.80              3          1               0   \n",
       "3       1       0.00              2          0               0   \n",
       "4       2  125510.82              1          1               1   \n",
       "\n",
       "   EstimatedSalary  Exited  \n",
       "0        101348.88       1  \n",
       "1        112542.58       0  \n",
       "2        113931.57       1  \n",
       "3         93826.63       0  \n",
       "4         79084.10       0  "
      ]
     },
     "execution_count": 3,
     "metadata": {},
     "output_type": "execute_result"
    }
   ],
   "source": [
    "df.head()"
   ]
  },
  {
   "cell_type": "code",
   "execution_count": 4,
   "id": "62565c47",
   "metadata": {},
   "outputs": [
    {
     "data": {
      "text/html": [
       "<div>\n",
       "<style scoped>\n",
       "    .dataframe tbody tr th:only-of-type {\n",
       "        vertical-align: middle;\n",
       "    }\n",
       "\n",
       "    .dataframe tbody tr th {\n",
       "        vertical-align: top;\n",
       "    }\n",
       "\n",
       "    .dataframe thead th {\n",
       "        text-align: right;\n",
       "    }\n",
       "</style>\n",
       "<table border=\"1\" class=\"dataframe\">\n",
       "  <thead>\n",
       "    <tr style=\"text-align: right;\">\n",
       "      <th></th>\n",
       "      <th>RowNumber</th>\n",
       "      <th>CustomerId</th>\n",
       "      <th>CreditScore</th>\n",
       "      <th>Age</th>\n",
       "      <th>Tenure</th>\n",
       "      <th>Balance</th>\n",
       "      <th>NumOfProducts</th>\n",
       "      <th>HasCrCard</th>\n",
       "      <th>IsActiveMember</th>\n",
       "      <th>EstimatedSalary</th>\n",
       "      <th>Exited</th>\n",
       "    </tr>\n",
       "  </thead>\n",
       "  <tbody>\n",
       "    <tr>\n",
       "      <th>count</th>\n",
       "      <td>10000.00000</td>\n",
       "      <td>1.000000e+04</td>\n",
       "      <td>10000.000000</td>\n",
       "      <td>10000.000000</td>\n",
       "      <td>10000.000000</td>\n",
       "      <td>10000.000000</td>\n",
       "      <td>10000.000000</td>\n",
       "      <td>10000.00000</td>\n",
       "      <td>10000.000000</td>\n",
       "      <td>10000.000000</td>\n",
       "      <td>10000.000000</td>\n",
       "    </tr>\n",
       "    <tr>\n",
       "      <th>mean</th>\n",
       "      <td>5000.50000</td>\n",
       "      <td>1.569094e+07</td>\n",
       "      <td>650.528800</td>\n",
       "      <td>38.921800</td>\n",
       "      <td>5.012800</td>\n",
       "      <td>76485.889288</td>\n",
       "      <td>1.530200</td>\n",
       "      <td>0.70550</td>\n",
       "      <td>0.515100</td>\n",
       "      <td>100090.239881</td>\n",
       "      <td>0.203700</td>\n",
       "    </tr>\n",
       "    <tr>\n",
       "      <th>std</th>\n",
       "      <td>2886.89568</td>\n",
       "      <td>7.193619e+04</td>\n",
       "      <td>96.653299</td>\n",
       "      <td>10.487806</td>\n",
       "      <td>2.892174</td>\n",
       "      <td>62397.405202</td>\n",
       "      <td>0.581654</td>\n",
       "      <td>0.45584</td>\n",
       "      <td>0.499797</td>\n",
       "      <td>57510.492818</td>\n",
       "      <td>0.402769</td>\n",
       "    </tr>\n",
       "    <tr>\n",
       "      <th>min</th>\n",
       "      <td>1.00000</td>\n",
       "      <td>1.556570e+07</td>\n",
       "      <td>350.000000</td>\n",
       "      <td>18.000000</td>\n",
       "      <td>0.000000</td>\n",
       "      <td>0.000000</td>\n",
       "      <td>1.000000</td>\n",
       "      <td>0.00000</td>\n",
       "      <td>0.000000</td>\n",
       "      <td>11.580000</td>\n",
       "      <td>0.000000</td>\n",
       "    </tr>\n",
       "    <tr>\n",
       "      <th>25%</th>\n",
       "      <td>2500.75000</td>\n",
       "      <td>1.562853e+07</td>\n",
       "      <td>584.000000</td>\n",
       "      <td>32.000000</td>\n",
       "      <td>3.000000</td>\n",
       "      <td>0.000000</td>\n",
       "      <td>1.000000</td>\n",
       "      <td>0.00000</td>\n",
       "      <td>0.000000</td>\n",
       "      <td>51002.110000</td>\n",
       "      <td>0.000000</td>\n",
       "    </tr>\n",
       "    <tr>\n",
       "      <th>50%</th>\n",
       "      <td>5000.50000</td>\n",
       "      <td>1.569074e+07</td>\n",
       "      <td>652.000000</td>\n",
       "      <td>37.000000</td>\n",
       "      <td>5.000000</td>\n",
       "      <td>97198.540000</td>\n",
       "      <td>1.000000</td>\n",
       "      <td>1.00000</td>\n",
       "      <td>1.000000</td>\n",
       "      <td>100193.915000</td>\n",
       "      <td>0.000000</td>\n",
       "    </tr>\n",
       "    <tr>\n",
       "      <th>75%</th>\n",
       "      <td>7500.25000</td>\n",
       "      <td>1.575323e+07</td>\n",
       "      <td>718.000000</td>\n",
       "      <td>44.000000</td>\n",
       "      <td>7.000000</td>\n",
       "      <td>127644.240000</td>\n",
       "      <td>2.000000</td>\n",
       "      <td>1.00000</td>\n",
       "      <td>1.000000</td>\n",
       "      <td>149388.247500</td>\n",
       "      <td>0.000000</td>\n",
       "    </tr>\n",
       "    <tr>\n",
       "      <th>max</th>\n",
       "      <td>10000.00000</td>\n",
       "      <td>1.581569e+07</td>\n",
       "      <td>850.000000</td>\n",
       "      <td>92.000000</td>\n",
       "      <td>10.000000</td>\n",
       "      <td>250898.090000</td>\n",
       "      <td>4.000000</td>\n",
       "      <td>1.00000</td>\n",
       "      <td>1.000000</td>\n",
       "      <td>199992.480000</td>\n",
       "      <td>1.000000</td>\n",
       "    </tr>\n",
       "  </tbody>\n",
       "</table>\n",
       "</div>"
      ],
      "text/plain": [
       "         RowNumber    CustomerId   CreditScore           Age        Tenure  \\\n",
       "count  10000.00000  1.000000e+04  10000.000000  10000.000000  10000.000000   \n",
       "mean    5000.50000  1.569094e+07    650.528800     38.921800      5.012800   \n",
       "std     2886.89568  7.193619e+04     96.653299     10.487806      2.892174   \n",
       "min        1.00000  1.556570e+07    350.000000     18.000000      0.000000   \n",
       "25%     2500.75000  1.562853e+07    584.000000     32.000000      3.000000   \n",
       "50%     5000.50000  1.569074e+07    652.000000     37.000000      5.000000   \n",
       "75%     7500.25000  1.575323e+07    718.000000     44.000000      7.000000   \n",
       "max    10000.00000  1.581569e+07    850.000000     92.000000     10.000000   \n",
       "\n",
       "             Balance  NumOfProducts    HasCrCard  IsActiveMember  \\\n",
       "count   10000.000000   10000.000000  10000.00000    10000.000000   \n",
       "mean    76485.889288       1.530200      0.70550        0.515100   \n",
       "std     62397.405202       0.581654      0.45584        0.499797   \n",
       "min         0.000000       1.000000      0.00000        0.000000   \n",
       "25%         0.000000       1.000000      0.00000        0.000000   \n",
       "50%     97198.540000       1.000000      1.00000        1.000000   \n",
       "75%    127644.240000       2.000000      1.00000        1.000000   \n",
       "max    250898.090000       4.000000      1.00000        1.000000   \n",
       "\n",
       "       EstimatedSalary        Exited  \n",
       "count     10000.000000  10000.000000  \n",
       "mean     100090.239881      0.203700  \n",
       "std       57510.492818      0.402769  \n",
       "min          11.580000      0.000000  \n",
       "25%       51002.110000      0.000000  \n",
       "50%      100193.915000      0.000000  \n",
       "75%      149388.247500      0.000000  \n",
       "max      199992.480000      1.000000  "
      ]
     },
     "execution_count": 4,
     "metadata": {},
     "output_type": "execute_result"
    }
   ],
   "source": [
    "df.describe()"
   ]
  },
  {
   "cell_type": "code",
   "execution_count": 5,
   "id": "b17cdd6c",
   "metadata": {},
   "outputs": [
    {
     "data": {
      "text/plain": [
       "(10000, 14)"
      ]
     },
     "execution_count": 5,
     "metadata": {},
     "output_type": "execute_result"
    }
   ],
   "source": [
    "df.shape"
   ]
  },
  {
   "cell_type": "code",
   "execution_count": 6,
   "id": "a7bdd30e",
   "metadata": {},
   "outputs": [
    {
     "name": "stdout",
     "output_type": "stream",
     "text": [
      "<class 'pandas.core.frame.DataFrame'>\n",
      "RangeIndex: 10000 entries, 0 to 9999\n",
      "Data columns (total 14 columns):\n",
      " #   Column           Non-Null Count  Dtype  \n",
      "---  ------           --------------  -----  \n",
      " 0   RowNumber        10000 non-null  int64  \n",
      " 1   CustomerId       10000 non-null  int64  \n",
      " 2   Surname          10000 non-null  object \n",
      " 3   CreditScore      10000 non-null  int64  \n",
      " 4   Geography        10000 non-null  object \n",
      " 5   Gender           10000 non-null  object \n",
      " 6   Age              10000 non-null  int64  \n",
      " 7   Tenure           10000 non-null  int64  \n",
      " 8   Balance          10000 non-null  float64\n",
      " 9   NumOfProducts    10000 non-null  int64  \n",
      " 10  HasCrCard        10000 non-null  int64  \n",
      " 11  IsActiveMember   10000 non-null  int64  \n",
      " 12  EstimatedSalary  10000 non-null  float64\n",
      " 13  Exited           10000 non-null  int64  \n",
      "dtypes: float64(2), int64(9), object(3)\n",
      "memory usage: 1.1+ MB\n"
     ]
    }
   ],
   "source": [
    "df.info()"
   ]
  },
  {
   "cell_type": "code",
   "execution_count": 7,
   "id": "995bcc9c",
   "metadata": {},
   "outputs": [
    {
     "data": {
      "text/plain": [
       "RowNumber          0\n",
       "CustomerId         0\n",
       "Surname            0\n",
       "CreditScore        0\n",
       "Geography          0\n",
       "Gender             0\n",
       "Age                0\n",
       "Tenure             0\n",
       "Balance            0\n",
       "NumOfProducts      0\n",
       "HasCrCard          0\n",
       "IsActiveMember     0\n",
       "EstimatedSalary    0\n",
       "Exited             0\n",
       "dtype: int64"
      ]
     },
     "execution_count": 7,
     "metadata": {},
     "output_type": "execute_result"
    }
   ],
   "source": [
    "df.isnull().sum()"
   ]
  },
  {
   "cell_type": "code",
   "execution_count": 8,
   "id": "7f28d785",
   "metadata": {},
   "outputs": [
    {
     "data": {
      "text/plain": [
       "0    7963\n",
       "1    2037\n",
       "Name: Exited, dtype: int64"
      ]
     },
     "execution_count": 8,
     "metadata": {},
     "output_type": "execute_result"
    }
   ],
   "source": [
    "df['Exited'].value_counts()"
   ]
  },
  {
   "cell_type": "markdown",
   "id": "8b010234",
   "metadata": {},
   "source": [
    "### EDA"
   ]
  },
  {
   "cell_type": "code",
   "execution_count": 9,
   "id": "eca92c74",
   "metadata": {},
   "outputs": [
    {
     "name": "stderr",
     "output_type": "stream",
     "text": [
      "C:\\Users\\GNULR\\Anaconda3\\lib\\site-packages\\seaborn\\_decorators.py:36: FutureWarning: Pass the following variable as a keyword arg: x. From version 0.12, the only valid positional argument will be `data`, and passing other arguments without an explicit keyword will result in an error or misinterpretation.\n",
      "  warnings.warn(\n"
     ]
    },
    {
     "data": {
      "text/plain": [
       "<AxesSubplot:xlabel='Exited', ylabel='count'>"
      ]
     },
     "execution_count": 9,
     "metadata": {},
     "output_type": "execute_result"
    },
    {
     "data": {
      "image/png": "[encoded data removed]",
      "text/plain": [
       "<Figure size 432x288 with 1 Axes>"
      ]
     },
     "metadata": {
      "needs_background": "light"
     },
     "output_type": "display_data"
    }
   ],
   "source": [
    " \n",
    "sns.countplot(df['Exited'])"
   ]
  },
  {
   "cell_type": "markdown",
   "id": "e5680cfb",
   "metadata": {},
   "source": [
    "- Around 20% of the Customer have churned and other 70% customers haven't Churned.\n",
    "- 0 == Not Churned \n",
    "- 1 ==  Churned "
   ]
  },
  {
   "cell_type": "code",
   "execution_count": 10,
   "id": "76f3f39b",
   "metadata": {},
   "outputs": [
    {
     "data": {
      "text/plain": [
       "<AxesSubplot:xlabel='Gender', ylabel='count'>"
      ]
     },
     "execution_count": 10,
     "metadata": {},
     "output_type": "execute_result"
    },
    {
     "data": {
      "image/png": "[encoded data removed]",
      "text/plain": [
       "<Figure size 432x288 with 1 Axes>"
      ]
     },
     "metadata": {
      "needs_background": "light"
     },
     "output_type": "display_data"
    }
   ],
   "source": [
    "## Visualising the Categorical Variables \n",
    "\n",
    "sns.countplot(x='Gender',hue='Exited',data=df)"
   ]
  },
  {
   "cell_type": "markdown",
   "id": "29c4cb67",
   "metadata": {},
   "source": [
    "- The proportion of female customers churning is also greater than that of female customers."
   ]
  },
  {
   "cell_type": "code",
   "execution_count": 11,
   "id": "b349ef2c",
   "metadata": {},
   "outputs": [
    {
     "data": {
      "text/plain": [
       "<AxesSubplot:xlabel='Geography', ylabel='count'>"
      ]
     },
     "execution_count": 11,
     "metadata": {},
     "output_type": "execute_result"
    },
    {
     "data": {
      "image/png": "[encoded data removed]",
      "text/plain": [
       "<Figure size 432x288 with 1 Axes>"
      ]
     },
     "metadata": {
      "needs_background": "light"
     },
     "output_type": "display_data"
    }
   ],
   "source": [
    "sns.countplot(x='Geography',hue='Exited',data=df)"
   ]
  },
  {
   "cell_type": "markdown",
   "id": "bba49401",
   "metadata": {},
   "source": [
    "- Majority of the customers are from france but most customers which churned are from germany maybe because of lack of resources as there are not many customers."
   ]
  },
  {
   "cell_type": "code",
   "execution_count": 12,
   "id": "765f0466",
   "metadata": {},
   "outputs": [
    {
     "name": "stderr",
     "output_type": "stream",
     "text": [
      "C:\\Users\\GNULR\\Anaconda3\\lib\\site-packages\\seaborn\\_decorators.py:36: FutureWarning: Pass the following variable as a keyword arg: x. From version 0.12, the only valid positional argument will be `data`, and passing other arguments without an explicit keyword will result in an error or misinterpretation.\n",
      "  warnings.warn(\n"
     ]
    },
    {
     "data": {
      "text/plain": [
       "<AxesSubplot:xlabel='NumOfProducts', ylabel='count'>"
      ]
     },
     "execution_count": 12,
     "metadata": {},
     "output_type": "execute_result"
    },
    {
     "data": {
      "image/png": "[encoded data removed]",
      "text/plain": [
       "<Figure size 432x288 with 1 Axes>"
      ]
     },
     "metadata": {
      "needs_background": "light"
     },
     "output_type": "display_data"
    }
   ],
   "source": [
    "sns.countplot('NumOfProducts',hue='Exited',data=df)"
   ]
  },
  {
   "cell_type": "markdown",
   "id": "f1c1ed29",
   "metadata": {},
   "source": [
    "- Most of the customers have 1 or 2 products and most customers which churned are having 1 products maybe they are not satisfied so they are churning."
   ]
  },
  {
   "cell_type": "code",
   "execution_count": 13,
   "id": "4263b0e8",
   "metadata": {},
   "outputs": [
    {
     "name": "stderr",
     "output_type": "stream",
     "text": [
      "C:\\Users\\GNULR\\Anaconda3\\lib\\site-packages\\seaborn\\_decorators.py:36: FutureWarning: Pass the following variable as a keyword arg: x. From version 0.12, the only valid positional argument will be `data`, and passing other arguments without an explicit keyword will result in an error or misinterpretation.\n",
      "  warnings.warn(\n"
     ]
    },
    {
     "data": {
      "text/plain": [
       "<AxesSubplot:xlabel='IsActiveMember', ylabel='count'>"
      ]
     },
     "execution_count": 13,
     "metadata": {},
     "output_type": "execute_result"
    },
    {
     "data": {
      "image/png": "[encoded data removed]",
      "text/plain": [
       "<Figure size 432x288 with 1 Axes>"
      ]
     },
     "metadata": {
      "needs_background": "light"
     },
     "output_type": "display_data"
    }
   ],
   "source": [
    "sns.countplot('IsActiveMember',hue='Exited',data=df)"
   ]
  },
  {
   "cell_type": "markdown",
   "id": "4f2b2e73",
   "metadata": {},
   "source": [
    "- Unsurprisingly the inactive members have a greater churn and the overall proportion of inactive members is also very high."
   ]
  },
  {
   "cell_type": "code",
   "execution_count": 14,
   "id": "df1358c1",
   "metadata": {},
   "outputs": [
    {
     "data": {
      "text/plain": [
       "<AxesSubplot:xlabel='Exited', ylabel='CreditScore'>"
      ]
     },
     "execution_count": 14,
     "metadata": {},
     "output_type": "execute_result"
    },
    {
     "data": {
      "image/png": "[encoded data removed]",
      "text/plain": [
       "<Figure size 432x288 with 1 Axes>"
      ]
     },
     "metadata": {
      "needs_background": "light"
     },
     "output_type": "display_data"
    }
   ],
   "source": [
    "## Visulaising on Continous variables\n",
    "\n",
    "sns.boxplot(x='Exited',y='CreditScore',data=df)"
   ]
  },
  {
   "cell_type": "markdown",
   "id": "a57ea8c2",
   "metadata": {},
   "source": [
    "- There is no significant difference in credit score distribution between customers which are churned or not."
   ]
  },
  {
   "cell_type": "code",
   "execution_count": 15,
   "id": "457259a4",
   "metadata": {},
   "outputs": [
    {
     "data": {
      "text/plain": [
       "<AxesSubplot:xlabel='Exited', ylabel='Age'>"
      ]
     },
     "execution_count": 15,
     "metadata": {},
     "output_type": "execute_result"
    },
    {
     "data": {
      "image/png": "[encoded data removed]",
      "text/plain": [
       "<Figure size 432x288 with 1 Axes>"
      ]
     },
     "metadata": {
      "needs_background": "light"
     },
     "output_type": "display_data"
    }
   ],
   "source": [
    "sns.boxplot(x='Exited',y='Age',data=df)"
   ]
  },
  {
   "cell_type": "markdown",
   "id": "7801703e",
   "metadata": {},
   "source": [
    "- The older customers are churning more than younger ones."
   ]
  },
  {
   "cell_type": "code",
   "execution_count": 16,
   "id": "d5e29f48",
   "metadata": {},
   "outputs": [
    {
     "data": {
      "text/plain": [
       "<AxesSubplot:xlabel='Exited', ylabel='Balance'>"
      ]
     },
     "execution_count": 16,
     "metadata": {},
     "output_type": "execute_result"
    },
    {
     "data": {
      "image/png": "[encoded data removed]",
      "text/plain": [
       "<Figure size 432x288 with 1 Axes>"
      ]
     },
     "metadata": {
      "needs_background": "light"
     },
     "output_type": "display_data"
    }
   ],
   "source": [
    "sns.boxplot(x='Exited',y='Balance',data=df)"
   ]
  },
  {
   "cell_type": "markdown",
   "id": "24451166",
   "metadata": {},
   "source": [
    "- Bank is loosing customers with significant bank balance."
   ]
  },
  {
   "cell_type": "code",
   "execution_count": 17,
   "id": "c29430c9",
   "metadata": {},
   "outputs": [
    {
     "data": {
      "text/plain": [
       "<AxesSubplot:xlabel='Exited', ylabel='EstimatedSalary'>"
      ]
     },
     "execution_count": 17,
     "metadata": {},
     "output_type": "execute_result"
    },
    {
     "data": {
      "image/png": "[encoded data removed]",
      "text/plain": [
       "<Figure size 432x288 with 1 Axes>"
      ]
     },
     "metadata": {
      "needs_background": "light"
     },
     "output_type": "display_data"
    }
   ],
   "source": [
    "sns.boxplot(x='Exited',y='EstimatedSalary',data=df)"
   ]
  },
  {
   "cell_type": "markdown",
   "id": "6bc65387",
   "metadata": {},
   "source": [
    "- Estimated Salary does not have a significant on the likelihood to churn."
   ]
  },
  {
   "cell_type": "code",
   "execution_count": 18,
   "id": "24d118a2",
   "metadata": {},
   "outputs": [
    {
     "data": {
      "image/png": "[encoded data removed]",
      "text/plain": [
       "<Figure size 1440x720 with 2 Axes>"
      ]
     },
     "metadata": {
      "needs_background": "light"
     },
     "output_type": "display_data"
    }
   ],
   "source": [
    "## Heatmap\n",
    "plt.figure(figsize=(20,10))\n",
    "\n",
    "corr=df.corr()\n",
    "sns.heatmap(corr,annot=True,fmt=\"2f\")\n",
    "\n",
    "plt.show()"
   ]
  },
  {
   "cell_type": "markdown",
   "id": "75f954b4",
   "metadata": {},
   "source": [
    "- We can say that there is no multicolinearity present in data"
   ]
  },
  {
   "cell_type": "code",
   "execution_count": 19,
   "id": "cc8616b2",
   "metadata": {},
   "outputs": [],
   "source": [
    "## Dropping Useless Columns.\n",
    "\n",
    "df.drop(columns=['RowNumber','CustomerId','Surname'],axis=1,inplace=True)"
   ]
  },
  {
   "cell_type": "code",
   "execution_count": 20,
   "id": "b32c9760",
   "metadata": {
    "scrolled": true
   },
   "outputs": [
    {
     "data": {
      "text/html": [
       "<div>\n",
       "<style scoped>\n",
       "    .dataframe tbody tr th:only-of-type {\n",
       "        vertical-align: middle;\n",
       "    }\n",
       "\n",
       "    .dataframe tbody tr th {\n",
       "        vertical-align: top;\n",
       "    }\n",
       "\n",
       "    .dataframe thead th {\n",
       "        text-align: right;\n",
       "    }\n",
       "</style>\n",
       "<table border=\"1\" class=\"dataframe\">\n",
       "  <thead>\n",
       "    <tr style=\"text-align: right;\">\n",
       "      <th></th>\n",
       "      <th>CreditScore</th>\n",
       "      <th>Geography</th>\n",
       "      <th>Gender</th>\n",
       "      <th>Age</th>\n",
       "      <th>Tenure</th>\n",
       "      <th>Balance</th>\n",
       "      <th>NumOfProducts</th>\n",
       "      <th>HasCrCard</th>\n",
       "      <th>IsActiveMember</th>\n",
       "      <th>EstimatedSalary</th>\n",
       "      <th>Exited</th>\n",
       "    </tr>\n",
       "  </thead>\n",
       "  <tbody>\n",
       "    <tr>\n",
       "      <th>0</th>\n",
       "      <td>619</td>\n",
       "      <td>France</td>\n",
       "      <td>Female</td>\n",
       "      <td>42</td>\n",
       "      <td>2</td>\n",
       "      <td>0.00</td>\n",
       "      <td>1</td>\n",
       "      <td>1</td>\n",
       "      <td>1</td>\n",
       "      <td>101348.88</td>\n",
       "      <td>1</td>\n",
       "    </tr>\n",
       "    <tr>\n",
       "      <th>1</th>\n",
       "      <td>608</td>\n",
       "      <td>Spain</td>\n",
       "      <td>Female</td>\n",
       "      <td>41</td>\n",
       "      <td>1</td>\n",
       "      <td>83807.86</td>\n",
       "      <td>1</td>\n",
       "      <td>0</td>\n",
       "      <td>1</td>\n",
       "      <td>112542.58</td>\n",
       "      <td>0</td>\n",
       "    </tr>\n",
       "    <tr>\n",
       "      <th>2</th>\n",
       "      <td>502</td>\n",
       "      <td>France</td>\n",
       "      <td>Female</td>\n",
       "      <td>42</td>\n",
       "      <td>8</td>\n",
       "      <td>159660.80</td>\n",
       "      <td>3</td>\n",
       "      <td>1</td>\n",
       "      <td>0</td>\n",
       "      <td>113931.57</td>\n",
       "      <td>1</td>\n",
       "    </tr>\n",
       "    <tr>\n",
       "      <th>3</th>\n",
       "      <td>699</td>\n",
       "      <td>France</td>\n",
       "      <td>Female</td>\n",
       "      <td>39</td>\n",
       "      <td>1</td>\n",
       "      <td>0.00</td>\n",
       "      <td>2</td>\n",
       "      <td>0</td>\n",
       "      <td>0</td>\n",
       "      <td>93826.63</td>\n",
       "      <td>0</td>\n",
       "    </tr>\n",
       "    <tr>\n",
       "      <th>4</th>\n",
       "      <td>850</td>\n",
       "      <td>Spain</td>\n",
       "      <td>Female</td>\n",
       "      <td>43</td>\n",
       "      <td>2</td>\n",
       "      <td>125510.82</td>\n",
       "      <td>1</td>\n",
       "      <td>1</td>\n",
       "      <td>1</td>\n",
       "      <td>79084.10</td>\n",
       "      <td>0</td>\n",
       "    </tr>\n",
       "  </tbody>\n",
       "</table>\n",
       "</div>"
      ],
      "text/plain": [
       "   CreditScore Geography  Gender  Age  Tenure    Balance  NumOfProducts  \\\n",
       "0          619    France  Female   42       2       0.00              1   \n",
       "1          608     Spain  Female   41       1   83807.86              1   \n",
       "2          502    France  Female   42       8  159660.80              3   \n",
       "3          699    France  Female   39       1       0.00              2   \n",
       "4          850     Spain  Female   43       2  125510.82              1   \n",
       "\n",
       "   HasCrCard  IsActiveMember  EstimatedSalary  Exited  \n",
       "0          1               1        101348.88       1  \n",
       "1          0               1        112542.58       0  \n",
       "2          1               0        113931.57       1  \n",
       "3          0               0         93826.63       0  \n",
       "4          1               1         79084.10       0  "
      ]
     },
     "execution_count": 20,
     "metadata": {},
     "output_type": "execute_result"
    }
   ],
   "source": [
    "df.head()"
   ]
  },
  {
   "cell_type": "markdown",
   "id": "a9434cea",
   "metadata": {},
   "source": [
    "### Feature Engineering "
   ]
  },
  {
   "cell_type": "code",
   "execution_count": 21,
   "id": "e7c89a51",
   "metadata": {},
   "outputs": [],
   "source": [
    "## Encoding categorical variables\n",
    "\n",
    "df['Geography'] = df['Geography'].map({'France' : 0, 'Germany' : 1, 'Spain' : 2})\n",
    "df['Gender'] = df['Gender'].map({'Male' : 0, 'Female' : 1})"
   ]
  },
  {
   "cell_type": "code",
   "execution_count": 22,
   "id": "3feacaf9",
   "metadata": {},
   "outputs": [
    {
     "data": {
      "text/html": [
       "<div>\n",
       "<style scoped>\n",
       "    .dataframe tbody tr th:only-of-type {\n",
       "        vertical-align: middle;\n",
       "    }\n",
       "\n",
       "    .dataframe tbody tr th {\n",
       "        vertical-align: top;\n",
       "    }\n",
       "\n",
       "    .dataframe thead th {\n",
       "        text-align: right;\n",
       "    }\n",
       "</style>\n",
       "<table border=\"1\" class=\"dataframe\">\n",
       "  <thead>\n",
       "    <tr style=\"text-align: right;\">\n",
       "      <th></th>\n",
       "      <th>CreditScore</th>\n",
       "      <th>Geography</th>\n",
       "      <th>Gender</th>\n",
       "      <th>Age</th>\n",
       "      <th>Tenure</th>\n",
       "      <th>Balance</th>\n",
       "      <th>NumOfProducts</th>\n",
       "      <th>HasCrCard</th>\n",
       "      <th>IsActiveMember</th>\n",
       "      <th>EstimatedSalary</th>\n",
       "      <th>Exited</th>\n",
       "    </tr>\n",
       "  </thead>\n",
       "  <tbody>\n",
       "    <tr>\n",
       "      <th>0</th>\n",
       "      <td>619</td>\n",
       "      <td>0</td>\n",
       "      <td>1</td>\n",
       "      <td>42</td>\n",
       "      <td>2</td>\n",
       "      <td>0.00</td>\n",
       "      <td>1</td>\n",
       "      <td>1</td>\n",
       "      <td>1</td>\n",
       "      <td>101348.88</td>\n",
       "      <td>1</td>\n",
       "    </tr>\n",
       "    <tr>\n",
       "      <th>1</th>\n",
       "      <td>608</td>\n",
       "      <td>2</td>\n",
       "      <td>1</td>\n",
       "      <td>41</td>\n",
       "      <td>1</td>\n",
       "      <td>83807.86</td>\n",
       "      <td>1</td>\n",
       "      <td>0</td>\n",
       "      <td>1</td>\n",
       "      <td>112542.58</td>\n",
       "      <td>0</td>\n",
       "    </tr>\n",
       "    <tr>\n",
       "      <th>2</th>\n",
       "      <td>502</td>\n",
       "      <td>0</td>\n",
       "      <td>1</td>\n",
       "      <td>42</td>\n",
       "      <td>8</td>\n",
       "      <td>159660.80</td>\n",
       "      <td>3</td>\n",
       "      <td>1</td>\n",
       "      <td>0</td>\n",
       "      <td>113931.57</td>\n",
       "      <td>1</td>\n",
       "    </tr>\n",
       "    <tr>\n",
       "      <th>3</th>\n",
       "      <td>699</td>\n",
       "      <td>0</td>\n",
       "      <td>1</td>\n",
       "      <td>39</td>\n",
       "      <td>1</td>\n",
       "      <td>0.00</td>\n",
       "      <td>2</td>\n",
       "      <td>0</td>\n",
       "      <td>0</td>\n",
       "      <td>93826.63</td>\n",
       "      <td>0</td>\n",
       "    </tr>\n",
       "    <tr>\n",
       "      <th>4</th>\n",
       "      <td>850</td>\n",
       "      <td>2</td>\n",
       "      <td>1</td>\n",
       "      <td>43</td>\n",
       "      <td>2</td>\n",
       "      <td>125510.82</td>\n",
       "      <td>1</td>\n",
       "      <td>1</td>\n",
       "      <td>1</td>\n",
       "      <td>79084.10</td>\n",
       "      <td>0</td>\n",
       "    </tr>\n",
       "  </tbody>\n",
       "</table>\n",
       "</div>"
      ],
      "text/plain": [
       "   CreditScore  Geography  Gender  Age  Tenure    Balance  NumOfProducts  \\\n",
       "0          619          0       1   42       2       0.00              1   \n",
       "1          608          2       1   41       1   83807.86              1   \n",
       "2          502          0       1   42       8  159660.80              3   \n",
       "3          699          0       1   39       1       0.00              2   \n",
       "4          850          2       1   43       2  125510.82              1   \n",
       "\n",
       "   HasCrCard  IsActiveMember  EstimatedSalary  Exited  \n",
       "0          1               1        101348.88       1  \n",
       "1          0               1        112542.58       0  \n",
       "2          1               0        113931.57       1  \n",
       "3          0               0         93826.63       0  \n",
       "4          1               1         79084.10       0  "
      ]
     },
     "execution_count": 22,
     "metadata": {},
     "output_type": "execute_result"
    }
   ],
   "source": [
    "df.head()"
   ]
  },
  {
   "cell_type": "code",
   "execution_count": 23,
   "id": "f547b0bf",
   "metadata": {},
   "outputs": [],
   "source": [
    "## Creating Independent and Dependent Variables.\n",
    "## X == Independent variables.\n",
    "## y == Dependent Varobales.\n",
    "\n",
    "X=df.drop('Exited',axis=1)\n",
    "y=df['Exited']"
   ]
  },
  {
   "cell_type": "markdown",
   "id": "46eb2e17",
   "metadata": {},
   "source": [
    "### Splitting the data into train and test set."
   ]
  },
  {
   "cell_type": "code",
   "execution_count": 24,
   "id": "8e4905d9",
   "metadata": {},
   "outputs": [],
   "source": [
    "from sklearn.model_selection import train_test_split"
   ]
  },
  {
   "cell_type": "code",
   "execution_count": 25,
   "id": "9040d6af",
   "metadata": {},
   "outputs": [],
   "source": [
    "X_train, X_test, y_train, y_test = train_test_split(X, y, test_size=0.2, random_state=0)"
   ]
  },
  {
   "cell_type": "markdown",
   "id": "52bdb2fd",
   "metadata": {},
   "source": [
    "### Feature Scaling"
   ]
  },
  {
   "cell_type": "code",
   "execution_count": 26,
   "id": "6e817e0f",
   "metadata": {},
   "outputs": [],
   "source": [
    "from sklearn.preprocessing import StandardScaler"
   ]
  },
  {
   "cell_type": "code",
   "execution_count": 27,
   "id": "4780ff80",
   "metadata": {},
   "outputs": [],
   "source": [
    "### Intalising the Standardscaler\n",
    "\n",
    "sc=StandardScaler()\n",
    "X_train=sc.fit_transform(X_train)\n",
    "X_test=sc.transform(X_test)"
   ]
  },
  {
   "cell_type": "code",
   "execution_count": 28,
   "id": "b6880527",
   "metadata": {},
   "outputs": [
    {
     "data": {
      "text/plain": [
       "array([[ 0.16958176,  1.51919821,  1.09168714, ...,  0.64259497,\n",
       "        -1.03227043,  1.10643166],\n",
       "       [-2.30455945,  0.3131264 , -0.91601335, ...,  0.64259497,\n",
       "         0.9687384 , -0.74866447],\n",
       "       [-1.19119591, -0.89294542,  1.09168714, ...,  0.64259497,\n",
       "        -1.03227043,  1.48533467],\n",
       "       ...,\n",
       "       [ 0.9015152 , -0.89294542, -0.91601335, ...,  0.64259497,\n",
       "        -1.03227043,  1.41231994],\n",
       "       [-0.62420521,  1.51919821,  1.09168714, ...,  0.64259497,\n",
       "         0.9687384 ,  0.84432121],\n",
       "       [-0.28401079,  0.3131264 ,  1.09168714, ...,  0.64259497,\n",
       "        -1.03227043,  0.32472465]])"
      ]
     },
     "execution_count": 28,
     "metadata": {},
     "output_type": "execute_result"
    }
   ],
   "source": [
    "X_train"
   ]
  },
  {
   "cell_type": "code",
   "execution_count": 29,
   "id": "5f7086ee",
   "metadata": {},
   "outputs": [
    {
     "data": {
      "text/plain": [
       "array([[-0.55204276,  0.3131264 ,  1.09168714, ...,  0.64259497,\n",
       "         0.9687384 ,  1.61085707],\n",
       "       [-1.31490297, -0.89294542,  1.09168714, ...,  0.64259497,\n",
       "        -1.03227043,  0.49587037],\n",
       "       [ 0.57162971,  1.51919821,  1.09168714, ...,  0.64259497,\n",
       "         0.9687384 , -0.42478674],\n",
       "       ...,\n",
       "       [-0.74791227,  1.51919821, -0.91601335, ...,  0.64259497,\n",
       "        -1.03227043,  0.71888467],\n",
       "       [-0.00566991,  0.3131264 , -0.91601335, ...,  0.64259497,\n",
       "         0.9687384 , -1.54507805],\n",
       "       [-0.79945688,  0.3131264 , -0.91601335, ...,  0.64259497,\n",
       "        -1.03227043,  1.61255917]])"
      ]
     },
     "execution_count": 29,
     "metadata": {},
     "output_type": "execute_result"
    }
   ],
   "source": [
    "X_test"
   ]
  },
  {
   "cell_type": "code",
   "execution_count": 30,
   "id": "62488e40",
   "metadata": {},
   "outputs": [
    {
     "data": {
      "text/plain": [
       "(8000, 10)"
      ]
     },
     "execution_count": 30,
     "metadata": {},
     "output_type": "execute_result"
    }
   ],
   "source": [
    "X_train.shape"
   ]
  },
  {
   "cell_type": "markdown",
   "id": "f9acce49",
   "metadata": {},
   "source": [
    "### Steps for Building a Artifical Neural Network (ANN).\n",
    "\n",
    "* **Building model**: Defining Architecture\n",
    "* **Compile**: Giving metadata(like loss, optimizer)\n",
    "* **Fit the model**"
   ]
  },
  {
   "cell_type": "markdown",
   "id": "00f8e025",
   "metadata": {},
   "source": [
    "### 1. Building ANN "
   ]
  },
  {
   "cell_type": "code",
   "execution_count": 31,
   "id": "87e81a80",
   "metadata": {},
   "outputs": [],
   "source": [
    "from tensorflow.keras.models import Sequential"
   ]
  },
  {
   "cell_type": "code",
   "execution_count": 32,
   "id": "4f1c25c1",
   "metadata": {},
   "outputs": [],
   "source": [
    "### Intalising the ANN\n",
    "\n",
    "model = Sequential()"
   ]
  },
  {
   "cell_type": "code",
   "execution_count": 33,
   "id": "a4c9ba93",
   "metadata": {},
   "outputs": [],
   "source": [
    "from tensorflow.keras.layers import Dense"
   ]
  },
  {
   "cell_type": "code",
   "execution_count": 34,
   "id": "981e2746",
   "metadata": {},
   "outputs": [],
   "source": [
    "from tensorflow.keras.layers import LeakyReLU,PReLU,ELU,ReLU"
   ]
  },
  {
   "cell_type": "code",
   "execution_count": 35,
   "id": "cef839ae",
   "metadata": {},
   "outputs": [],
   "source": [
    "from tensorflow.keras.layers import Dropout"
   ]
  },
  {
   "cell_type": "code",
   "execution_count": 36,
   "id": "3a98c517",
   "metadata": {},
   "outputs": [],
   "source": [
    "### adding the first input layer \n",
    "\n",
    "model.add(Dense(units=10,activation='relu'))"
   ]
  },
  {
   "cell_type": "code",
   "execution_count": 37,
   "id": "e52d86bc",
   "metadata": {},
   "outputs": [],
   "source": [
    "### adding the first hidden layer.\n",
    "\n",
    "model.add(Dense(units=6,activation='relu'))"
   ]
  },
  {
   "cell_type": "code",
   "execution_count": 38,
   "id": "105667b2",
   "metadata": {},
   "outputs": [],
   "source": [
    "### adding the output layer.\n",
    "\n",
    "model.add(Dense(1,activation='sigmoid'))"
   ]
  },
  {
   "cell_type": "markdown",
   "id": "f11f1b98",
   "metadata": {},
   "source": [
    "### 2. Compiling the model."
   ]
  },
  {
   "cell_type": "code",
   "execution_count": 39,
   "id": "f5e19855",
   "metadata": {},
   "outputs": [],
   "source": [
    "model.compile(optimizer='adam',loss='binary_crossentropy',metrics=['accuracy'])"
   ]
  },
  {
   "cell_type": "markdown",
   "id": "6d2f9ca0",
   "metadata": {},
   "source": [
    "### 3. Fitting the model to the training set"
   ]
  },
  {
   "cell_type": "code",
   "execution_count": 40,
   "id": "dd6140e8",
   "metadata": {},
   "outputs": [
    {
     "name": "stdout",
     "output_type": "stream",
     "text": [
      "Epoch 1/40\n",
      "560/560 [==============================] - 4s 4ms/step - loss: 0.4876 - accuracy: 0.7904 - val_loss: 0.4673 - val_accuracy: 0.7950\n",
      "Epoch 2/40\n",
      "560/560 [==============================] - 2s 4ms/step - loss: 0.4316 - accuracy: 0.8112 - val_loss: 0.4438 - val_accuracy: 0.8083\n",
      "Epoch 3/40\n",
      "560/560 [==============================] - 3s 5ms/step - loss: 0.4106 - accuracy: 0.8216 - val_loss: 0.4283 - val_accuracy: 0.8108\n",
      "Epoch 4/40\n",
      "560/560 [==============================] - 2s 3ms/step - loss: 0.3943 - accuracy: 0.8338 - val_loss: 0.4145 - val_accuracy: 0.8183\n",
      "Epoch 5/40\n",
      "560/560 [==============================] - 2s 4ms/step - loss: 0.3799 - accuracy: 0.8388 - val_loss: 0.4035 - val_accuracy: 0.8292\n",
      "Epoch 6/40\n",
      "560/560 [==============================] - 2s 4ms/step - loss: 0.3688 - accuracy: 0.8454 - val_loss: 0.3961 - val_accuracy: 0.8333\n",
      "Epoch 7/40\n",
      "560/560 [==============================] - 2s 4ms/step - loss: 0.3599 - accuracy: 0.8505 - val_loss: 0.3844 - val_accuracy: 0.8396\n",
      "Epoch 8/40\n",
      "560/560 [==============================] - 2s 3ms/step - loss: 0.3535 - accuracy: 0.8511 - val_loss: 0.3806 - val_accuracy: 0.8404\n",
      "Epoch 9/40\n",
      "560/560 [==============================] - 2s 3ms/step - loss: 0.3499 - accuracy: 0.8557 - val_loss: 0.3766 - val_accuracy: 0.8438\n",
      "Epoch 10/40\n",
      "560/560 [==============================] - 2s 4ms/step - loss: 0.3469 - accuracy: 0.8573 - val_loss: 0.3721 - val_accuracy: 0.8450\n",
      "Epoch 11/40\n",
      "560/560 [==============================] - 3s 5ms/step - loss: 0.3445 - accuracy: 0.8609 - val_loss: 0.3713 - val_accuracy: 0.8450\n",
      "Epoch 12/40\n",
      "560/560 [==============================] - 2s 4ms/step - loss: 0.3427 - accuracy: 0.8582 - val_loss: 0.3692 - val_accuracy: 0.8475\n",
      "Epoch 13/40\n",
      "560/560 [==============================] - 2s 4ms/step - loss: 0.3407 - accuracy: 0.8600 - val_loss: 0.3680 - val_accuracy: 0.8483\n",
      "Epoch 14/40\n",
      "560/560 [==============================] - 2s 4ms/step - loss: 0.3402 - accuracy: 0.8604 - val_loss: 0.3694 - val_accuracy: 0.8462\n",
      "Epoch 15/40\n",
      "560/560 [==============================] - 3s 5ms/step - loss: 0.3384 - accuracy: 0.8618 - val_loss: 0.3704 - val_accuracy: 0.8467\n",
      "Epoch 16/40\n",
      "560/560 [==============================] - 2s 4ms/step - loss: 0.3378 - accuracy: 0.8623 - val_loss: 0.3663 - val_accuracy: 0.8512\n",
      "Epoch 17/40\n",
      "560/560 [==============================] - 2s 4ms/step - loss: 0.3370 - accuracy: 0.8612 - val_loss: 0.3653 - val_accuracy: 0.8521\n",
      "Epoch 18/40\n",
      "560/560 [==============================] - 2s 4ms/step - loss: 0.3360 - accuracy: 0.8632 - val_loss: 0.3657 - val_accuracy: 0.8496\n",
      "Epoch 19/40\n",
      "560/560 [==============================] - 2s 4ms/step - loss: 0.3357 - accuracy: 0.8639 - val_loss: 0.3675 - val_accuracy: 0.8521\n",
      "Epoch 20/40\n",
      "560/560 [==============================] - 3s 5ms/step - loss: 0.3352 - accuracy: 0.8654 - val_loss: 0.3625 - val_accuracy: 0.8546\n",
      "Epoch 21/40\n",
      "560/560 [==============================] - 2s 3ms/step - loss: 0.3335 - accuracy: 0.8639 - val_loss: 0.3640 - val_accuracy: 0.8504\n",
      "Epoch 22/40\n",
      "560/560 [==============================] - 2s 4ms/step - loss: 0.3341 - accuracy: 0.8639 - val_loss: 0.3642 - val_accuracy: 0.8583\n",
      "Epoch 23/40\n",
      "560/560 [==============================] - 2s 4ms/step - loss: 0.3330 - accuracy: 0.8627 - val_loss: 0.3637 - val_accuracy: 0.8517\n",
      "Epoch 24/40\n",
      "560/560 [==============================] - 2s 4ms/step - loss: 0.3324 - accuracy: 0.8625 - val_loss: 0.3643 - val_accuracy: 0.8542\n",
      "Epoch 25/40\n",
      "560/560 [==============================] - 2s 3ms/step - loss: 0.3330 - accuracy: 0.8646 - val_loss: 0.3634 - val_accuracy: 0.8542\n",
      "Epoch 26/40\n",
      "560/560 [==============================] - 2s 3ms/step - loss: 0.3321 - accuracy: 0.8643 - val_loss: 0.3637 - val_accuracy: 0.8537\n",
      "Epoch 27/40\n",
      "560/560 [==============================] - 2s 4ms/step - loss: 0.3311 - accuracy: 0.8643 - val_loss: 0.3643 - val_accuracy: 0.8558\n",
      "Epoch 28/40\n",
      "560/560 [==============================] - 2s 3ms/step - loss: 0.3315 - accuracy: 0.8648 - val_loss: 0.3625 - val_accuracy: 0.8542\n",
      "Epoch 29/40\n",
      "560/560 [==============================] - 2s 4ms/step - loss: 0.3314 - accuracy: 0.8636 - val_loss: 0.3615 - val_accuracy: 0.8533\n",
      "Epoch 30/40\n",
      "560/560 [==============================] - 2s 3ms/step - loss: 0.3310 - accuracy: 0.8657 - val_loss: 0.3624 - val_accuracy: 0.8479\n",
      "Epoch 31/40\n",
      "560/560 [==============================] - 2s 4ms/step - loss: 0.3306 - accuracy: 0.8646 - val_loss: 0.3603 - val_accuracy: 0.8517\n",
      "Epoch 32/40\n",
      "560/560 [==============================] - 2s 4ms/step - loss: 0.3306 - accuracy: 0.8636 - val_loss: 0.3627 - val_accuracy: 0.8562\n",
      "Epoch 33/40\n",
      "560/560 [==============================] - 2s 4ms/step - loss: 0.3302 - accuracy: 0.8620 - val_loss: 0.3607 - val_accuracy: 0.8546\n",
      "Epoch 34/40\n",
      "560/560 [==============================] - 2s 4ms/step - loss: 0.3296 - accuracy: 0.8637 - val_loss: 0.3608 - val_accuracy: 0.8529\n",
      "Epoch 35/40\n",
      "560/560 [==============================] - 2s 3ms/step - loss: 0.3299 - accuracy: 0.8634 - val_loss: 0.3601 - val_accuracy: 0.8496\n",
      "Epoch 36/40\n",
      "560/560 [==============================] - 2s 4ms/step - loss: 0.3298 - accuracy: 0.8639 - val_loss: 0.3595 - val_accuracy: 0.8558\n",
      "Epoch 37/40\n",
      "560/560 [==============================] - 2s 4ms/step - loss: 0.3295 - accuracy: 0.8650 - val_loss: 0.3595 - val_accuracy: 0.8521\n",
      "Epoch 38/40\n",
      "560/560 [==============================] - 2s 4ms/step - loss: 0.3293 - accuracy: 0.8641 - val_loss: 0.3599 - val_accuracy: 0.8554\n",
      "Epoch 39/40\n",
      "560/560 [==============================] - 2s 3ms/step - loss: 0.3290 - accuracy: 0.8664 - val_loss: 0.3599 - val_accuracy: 0.8504\n",
      "Epoch 40/40\n",
      "560/560 [==============================] - 2s 4ms/step - loss: 0.3283 - accuracy: 0.8637 - val_loss: 0.3591 - val_accuracy: 0.8554\n"
     ]
    }
   ],
   "source": [
    "model_history=model.fit(X_train,y_train,batch_size=10,validation_split=0.3,epochs=40)"
   ]
  },
  {
   "cell_type": "markdown",
   "id": "72618edb",
   "metadata": {},
   "source": [
    "### Visualizing history for loss"
   ]
  },
  {
   "cell_type": "code",
   "execution_count": 41,
   "id": "61d4a446",
   "metadata": {},
   "outputs": [
    {
     "data": {
      "text/plain": [
       "dict_keys(['loss', 'accuracy', 'val_loss', 'val_accuracy'])"
      ]
     },
     "execution_count": 41,
     "metadata": {},
     "output_type": "execute_result"
    }
   ],
   "source": [
    "model_history.history.keys()"
   ]
  },
  {
   "cell_type": "markdown",
   "id": "38c6af85",
   "metadata": {},
   "source": [
    "###  Making the Predictions and Evaluating the model"
   ]
  },
  {
   "cell_type": "code",
   "execution_count": 42,
   "id": "35c7a63d",
   "metadata": {},
   "outputs": [
    {
     "name": "stdout",
     "output_type": "stream",
     "text": [
      "63/63 [==============================] - 0s 2ms/step\n"
     ]
    }
   ],
   "source": [
    "y_pred=model.predict(X_test)\n",
    "y_pred=(y_pred >= 0.5)"
   ]
  },
  {
   "cell_type": "code",
   "execution_count": 43,
   "id": "786b7c3b",
   "metadata": {},
   "outputs": [],
   "source": [
    "### Confusion matrix\n",
    "\n",
    "from sklearn.metrics import confusion_matrix"
   ]
  },
  {
   "cell_type": "code",
   "execution_count": 44,
   "id": "68ee8594",
   "metadata": {},
   "outputs": [],
   "source": [
    "cm=confusion_matrix(y_test,y_pred)"
   ]
  },
  {
   "cell_type": "code",
   "execution_count": 45,
   "id": "3c656dea",
   "metadata": {},
   "outputs": [
    {
     "data": {
      "text/plain": [
       "array([[1520,   75],\n",
       "       [ 203,  202]], dtype=int64)"
      ]
     },
     "execution_count": 45,
     "metadata": {},
     "output_type": "execute_result"
    }
   ],
   "source": [
    "cm"
   ]
  },
  {
   "cell_type": "code",
   "execution_count": 46,
   "id": "df635c1e",
   "metadata": {},
   "outputs": [],
   "source": [
    "## Calculate the accuracy \n",
    "\n",
    "from sklearn.metrics import accuracy_score"
   ]
  },
  {
   "cell_type": "code",
   "execution_count": 47,
   "id": "52e0fef7",
   "metadata": {},
   "outputs": [],
   "source": [
    "acc=accuracy_score(y_test,y_pred)"
   ]
  },
  {
   "cell_type": "code",
   "execution_count": 48,
   "id": "11730761",
   "metadata": {},
   "outputs": [
    {
     "data": {
      "text/plain": [
       "0.861"
      ]
     },
     "execution_count": 48,
     "metadata": {},
     "output_type": "execute_result"
    }
   ],
   "source": [
    "acc"
   ]
  },
  {
   "cell_type": "code",
   "execution_count": 49,
   "id": "64e03c15",
   "metadata": {},
   "outputs": [
    {
     "data": {
      "text/plain": [
       "[array([[-0.1108901 , -0.4901817 , -0.05143798, -0.08308303, -0.02592354,\n",
       "         -0.11970869, -0.00530811, -0.02633599,  0.08466771, -0.11704552],\n",
       "        [-0.06361805,  0.17283611,  0.11058041, -1.0693641 , -0.24050547,\n",
       "         -0.22690481, -0.38189173, -0.11487036,  0.80383104, -0.11242108],\n",
       "        [-0.16008373, -0.24810548,  0.03245667, -0.41417128, -0.04442379,\n",
       "          0.04385802, -0.15565526, -0.05714159, -0.5591128 , -0.10435422],\n",
       "        [ 1.085987  , -0.34369206,  0.27825695, -0.13064286, -0.6333473 ,\n",
       "          0.5915664 ,  0.26702842, -0.19609003, -0.02370752,  0.4620803 ],\n",
       "        [ 0.05358262,  0.33705083,  0.1425092 ,  0.36986053, -0.32539454,\n",
       "          0.33302507, -0.13841349,  0.02163083,  0.31370908,  0.13792987],\n",
       "        [-0.2695783 ,  0.44695553,  0.35926497, -0.08036791, -0.0905529 ,\n",
       "         -0.00133111, -0.40279576, -0.20253202, -0.38082337, -0.26362413],\n",
       "        [ 0.4518215 ,  0.11198591,  1.0456905 , -0.29675788, -0.05117488,\n",
       "          0.13222212,  0.80704415,  0.44829774, -0.05479153, -1.2785352 ],\n",
       "        [-0.04549127, -0.23412922, -0.20620224, -0.29932985,  0.5726174 ,\n",
       "         -0.08754445,  0.4701331 ,  0.0348733 , -0.03620334, -0.11449276],\n",
       "        [ 0.18245865, -0.29064155, -0.23213452, -0.12947735,  0.5645885 ,\n",
       "          0.98736596, -0.3781125 , -0.53182924,  0.46528253, -0.21080285],\n",
       "        [-0.04601921, -0.03843084,  0.07652695, -0.3337481 ,  0.38442898,\n",
       "         -0.01663592, -0.2076223 ,  0.09527729, -0.02516535, -0.01319546]],\n",
       "       dtype=float32),\n",
       " array([-0.39691448,  0.3440826 , -0.4804113 ,  0.21834669,  0.2691341 ,\n",
       "        -0.20523413, -0.0061416 ,  0.46788028,  0.02565143,  0.26163343],\n",
       "       dtype=float32),\n",
       " array([[-0.61227864,  0.91013616,  0.04506379, -0.17065986, -0.5147298 ,\n",
       "         -1.0560409 ],\n",
       "        [ 0.43977267, -0.13091324,  0.04632825, -0.17390203, -0.5073341 ,\n",
       "          0.4395644 ],\n",
       "        [-0.21702716, -1.042783  , -0.50767726,  1.2056209 ,  0.07513559,\n",
       "          0.37930897],\n",
       "        [ 0.63539463, -0.20697246,  0.632505  ,  0.28581148,  0.66843015,\n",
       "         -0.8353451 ],\n",
       "        [ 0.04243052, -0.17935856,  0.56631535,  0.2795549 ,  0.32560647,\n",
       "         -0.39369506],\n",
       "        [-0.11670809,  0.19506638,  0.21011789, -0.28284875, -0.24065351,\n",
       "          0.07841576],\n",
       "        [-0.02092632, -0.33661255,  0.15819268,  0.4881391 , -0.13815673,\n",
       "         -0.21828371],\n",
       "        [ 0.5809886 ,  0.48507583,  0.38641205, -0.09077599,  0.4125655 ,\n",
       "         -0.09387553],\n",
       "        [ 0.37071025,  0.3684213 ,  0.30039066,  0.26224336, -0.12987049,\n",
       "          0.45917737],\n",
       "        [-0.31149   , -0.27857476, -0.29883495,  0.8563641 , -0.29563868,\n",
       "         -0.2419004 ]], dtype=float32),\n",
       " array([ 0.605853  ,  0.06599253,  0.33828402, -0.10553033,  0.67643   ,\n",
       "         0.35220206], dtype=float32),\n",
       " array([[-0.3307599 ],\n",
       "        [-1.185073  ],\n",
       "        [-0.99666953],\n",
       "        [ 1.320663  ],\n",
       "        [-1.3265048 ],\n",
       "        [-1.3481908 ]], dtype=float32),\n",
       " array([-0.12955943], dtype=float32)]"
      ]
     },
     "execution_count": 49,
     "metadata": {},
     "output_type": "execute_result"
    }
   ],
   "source": [
    "## get the weights \n",
    "\n",
    "model.get_weights()"
   ]
  },
  {
   "cell_type": "code",
   "execution_count": 50,
   "id": "cef5b055",
   "metadata": {},
   "outputs": [
    {
     "data": {
      "text/plain": [
       "[array([[-0.61227864,  0.91013616,  0.04506379, -0.17065986, -0.5147298 ,\n",
       "         -1.0560409 ],\n",
       "        [ 0.43977267, -0.13091324,  0.04632825, -0.17390203, -0.5073341 ,\n",
       "          0.4395644 ],\n",
       "        [-0.21702716, -1.042783  , -0.50767726,  1.2056209 ,  0.07513559,\n",
       "          0.37930897],\n",
       "        [ 0.63539463, -0.20697246,  0.632505  ,  0.28581148,  0.66843015,\n",
       "         -0.8353451 ],\n",
       "        [ 0.04243052, -0.17935856,  0.56631535,  0.2795549 ,  0.32560647,\n",
       "         -0.39369506],\n",
       "        [-0.11670809,  0.19506638,  0.21011789, -0.28284875, -0.24065351,\n",
       "          0.07841576],\n",
       "        [-0.02092632, -0.33661255,  0.15819268,  0.4881391 , -0.13815673,\n",
       "         -0.21828371],\n",
       "        [ 0.5809886 ,  0.48507583,  0.38641205, -0.09077599,  0.4125655 ,\n",
       "         -0.09387553],\n",
       "        [ 0.37071025,  0.3684213 ,  0.30039066,  0.26224336, -0.12987049,\n",
       "          0.45917737],\n",
       "        [-0.31149   , -0.27857476, -0.29883495,  0.8563641 , -0.29563868,\n",
       "         -0.2419004 ]], dtype=float32),\n",
       " array([ 0.605853  ,  0.06599253,  0.33828402, -0.10553033,  0.67643   ,\n",
       "         0.35220206], dtype=float32)]"
      ]
     },
     "execution_count": 50,
     "metadata": {},
     "output_type": "execute_result"
    }
   ],
   "source": [
    "model.layers[1].get_weights()"
   ]
  },
  {
   "cell_type": "code",
   "execution_count": 51,
   "id": "dc2288d9",
   "metadata": {},
   "outputs": [
    {
     "name": "stdout",
     "output_type": "stream",
     "text": [
      "Model: \"sequential\"\n",
      "_________________________________________________________________\n",
      " Layer (type)                Output Shape              Param #   \n",
      "=================================================================\n",
      " dense (Dense)               (None, 10)                110       \n",
      "                                                                 \n",
      " dense_1 (Dense)             (None, 6)                 66        \n",
      "                                                                 \n",
      " dense_2 (Dense)             (None, 1)                 7         \n",
      "                                                                 \n",
      "=================================================================\n",
      "Total params: 183\n",
      "Trainable params: 183\n",
      "Non-trainable params: 0\n",
      "_________________________________________________________________\n"
     ]
    }
   ],
   "source": [
    "model.summary()"
   ]
  },
  {
   "cell_type": "code",
   "execution_count": 52,
   "id": "89a59622",
   "metadata": {},
   "outputs": [
    {
     "data": {
      "text/plain": [
       "dict_keys(['loss', 'accuracy', 'val_loss', 'val_accuracy'])"
      ]
     },
     "execution_count": 52,
     "metadata": {},
     "output_type": "execute_result"
    }
   ],
   "source": [
    "model_history.history.keys()"
   ]
  },
  {
   "cell_type": "markdown",
   "id": "3c22db60",
   "metadata": {},
   "source": [
    "### Visualizing Training Loss"
   ]
  },
  {
   "cell_type": "code",
   "execution_count": 53,
   "id": "013babd0",
   "metadata": {},
   "outputs": [
    {
     "data": {
      "text/plain": [
       "[<matplotlib.lines.Line2D at 0x26e1d9e2b20>]"
      ]
     },
     "execution_count": 53,
     "metadata": {},
     "output_type": "execute_result"
    },
    {
     "data": {
      "image/png": "[encoded data removed]",
      "text/plain": [
       "<Figure size 432x288 with 1 Axes>"
      ]
     },
     "metadata": {
      "needs_background": "light"
     },
     "output_type": "display_data"
    }
   ],
   "source": [
    "plt.plot(model_history.history['loss'])"
   ]
  },
  {
   "cell_type": "markdown",
   "id": "01e5ce50",
   "metadata": {},
   "source": [
    "### Visualizing Training Accuracy"
   ]
  },
  {
   "cell_type": "code",
   "execution_count": 54,
   "id": "babdecc6",
   "metadata": {},
   "outputs": [
    {
     "data": {
      "text/plain": [
       "[<matplotlib.lines.Line2D at 0x26e1da50d90>]"
      ]
     },
     "execution_count": 54,
     "metadata": {},
     "output_type": "execute_result"
    },
    {
     "data": {
      "image/png": "[encoded data removed]",
      "text/plain": [
       "<Figure size 432x288 with 1 Axes>"
      ]
     },
     "metadata": {
      "needs_background": "light"
     },
     "output_type": "display_data"
    }
   ],
   "source": [
    "plt.plot(model_history.history['accuracy'])"
   ]
  },
  {
   "cell_type": "markdown",
   "id": "7b38d74d",
   "metadata": {},
   "source": [
    "### Making the predictions and evaluating the model"
   ]
  },
  {
   "cell_type": "code",
   "execution_count": 55,
   "id": "4795fb7e",
   "metadata": {},
   "outputs": [
    {
     "name": "stdout",
     "output_type": "stream",
     "text": [
      "1/1 [==============================] - 0s 52ms/step\n",
      "[[False]]\n"
     ]
    },
    {
     "name": "stderr",
     "output_type": "stream",
     "text": [
      "C:\\Users\\GNULR\\Anaconda3\\lib\\site-packages\\sklearn\\base.py:450: UserWarning: X does not have valid feature names, but StandardScaler was fitted with feature names\n",
      "  warnings.warn(\n"
     ]
    }
   ],
   "source": [
    "print(model.predict(sc.transform([[0,632,1,40,3,193354.86,2,1,0,149188.41,]])) > 0.5)"
   ]
  },
  {
   "cell_type": "markdown",
   "id": "4e264644",
   "metadata": {},
   "source": [
    "#### Therefore, our ANN model predicts that this customer stays in the bank."
   ]
  },
  {
   "cell_type": "markdown",
   "id": "da4e0092",
   "metadata": {},
   "source": [
    "### Conclusions:\n",
    "\n",
    "* Total params: 183\n",
    "* Trainable params: 183\n",
    "* No of Epochs : 40\n",
    "* training_data_set_accuracy = 0.8637\n",
    "* Valdation_data_set_accuracy=0.8556\n",
    "\n",
    "* **The older customers are churning more than younger ones**.\n",
    "* **Bank is loosing customers with significant Bank Balance**.\n",
    "* **The ANN model predicted with 0.8637 Accuracy**."
   ]
  },
  {
   "cell_type": "code",
   "execution_count": null,
   "id": "20b20863",
   "metadata": {},
   "outputs": [],
   "source": []
  },
  {
   "cell_type": "code",
   "execution_count": null,
   "id": "8bce6a20",
   "metadata": {},
   "outputs": [],
   "source": []
  },
  {
   "cell_type": "code",
   "execution_count": null,
   "id": "0d3cb0c1",
   "metadata": {},
   "outputs": [],
   "source": []
  },
  {
   "cell_type": "code",
   "execution_count": null,
   "id": "62f33513",
   "metadata": {},
   "outputs": [],
   "source": []
  }
 ],
 "metadata": {
  "kernelspec": {
   "display_name": "Python 3 (ipykernel)",
   "language": "python",
   "name": "python3"
  },
  "language_info": {
   "codemirror_mode": {
    "name": "ipython",
    "version": 3
   },
   "file_extension": ".py",
   "mimetype": "text/x-python",
   "name": "python",
   "nbconvert_exporter": "python",
   "pygments_lexer": "ipython3",
   "version": "3.9.12"
  }
 },
 "nbformat": 4,
 "nbformat_minor": 5
}
